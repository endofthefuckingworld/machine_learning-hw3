{
 "cells": [
  {
   "cell_type": "code",
   "execution_count": 1,
   "id": "263f6d51",
   "metadata": {
    "colab": {
     "base_uri": "https://localhost:8080/",
     "height": 35
    },
    "executionInfo": {
     "elapsed": 2393,
     "status": "ok",
     "timestamp": 1619003803395,
     "user": {
      "displayName": "陳仕軒",
      "photoUrl": "",
      "userId": "02931029383462924657"
     },
     "user_tz": -480
    },
    "id": "263f6d51",
    "outputId": "fffaa520-df67-4b81-861e-af2ce1c9d31a"
   },
   "outputs": [
    {
     "data": {
      "text/plain": [
       "'2.4.3'"
      ]
     },
     "execution_count": 1,
     "metadata": {},
     "output_type": "execute_result"
    }
   ],
   "source": [
    "import keras\n",
    "keras.__version__"
   ]
  },
  {
   "cell_type": "code",
   "execution_count": 2,
   "id": "0ef8d786",
   "metadata": {
    "executionInfo": {
     "elapsed": 2805,
     "status": "ok",
     "timestamp": 1619003803816,
     "user": {
      "displayName": "陳仕軒",
      "photoUrl": "",
      "userId": "02931029383462924657"
     },
     "user_tz": -480
    },
    "id": "0ef8d786"
   },
   "outputs": [],
   "source": [
    "import os\n",
    "import cv2\n",
    "import shutil\n",
    "import numpy as np\n",
    "import pandas as pd\n",
    "from matplotlib import pyplot as plt\n",
    "#from google.colab import drive\n",
    "#import gdown\n",
    "plt.style.use(\"seaborn\")\n"
   ]
  },
  {
   "cell_type": "code",
   "execution_count": 3,
   "id": "tRRAwDO0ygoN",
   "metadata": {
    "id": "tRRAwDO0ygoN"
   },
   "outputs": [
    {
     "data": {
      "text/plain": [
       "\"\\n!gdown --id '1EUZSeZa6HqkIMCU33VFeb2Nwn6e6KQua' --output food-11.zip # 下載資料集\\n!unzip food-11.zip # 解壓縮\\n\""
      ]
     },
     "execution_count": 3,
     "metadata": {},
     "output_type": "execute_result"
    }
   ],
   "source": [
    "\"\"\"\n",
    "!gdown --id '1EUZSeZa6HqkIMCU33VFeb2Nwn6e6KQua' --output food-11.zip # 下載資料集\n",
    "!unzip food-11.zip # 解壓縮\n",
    "\"\"\""
   ]
  },
  {
   "cell_type": "code",
   "execution_count": 4,
   "id": "N7Z0N3T0Bf_V",
   "metadata": {
    "executionInfo": {
     "elapsed": 50915,
     "status": "ok",
     "timestamp": 1619003851931,
     "user": {
      "displayName": "陳仕軒",
      "photoUrl": "",
      "userId": "02931029383462924657"
     },
     "user_tz": -480
    },
    "id": "N7Z0N3T0Bf_V"
   },
   "outputs": [],
   "source": [
    "base_dir = './food_data'\n",
    "os.mkdir(base_dir)\n",
    "testing_dir = os.path.join(base_dir,'testing')\n",
    "training_dir = os.path.join(base_dir,'training')\n",
    "validation_dir = os.path.join(base_dir,'validation')\n",
    "\n",
    "categorical_name=['Bread', 'Dairy product', 'Dessert', 'Egg', 'Fried food', 'Meat', 'Noodles_Pasta', \n",
    "         'Rice', 'Seafood', 'Soup', 'Vegetable_Fruit']\n",
    "\n",
    "folder=[testing_dir,training_dir,validation_dir]\n",
    "\n",
    "for i in range(len(folder)):\n",
    "  os.mkdir(folder[i])\n",
    "  for j in range(len(categorical_name)):\n",
    "    forder_path = os.path.join(folder[i], categorical_name[j])\n",
    "    os.mkdir(forder_path)"
   ]
  },
  {
   "cell_type": "code",
   "execution_count": 5,
   "id": "43b390ff",
   "metadata": {
    "executionInfo": {
     "elapsed": 50911,
     "status": "ok",
     "timestamp": 1619003851931,
     "user": {
      "displayName": "陳仕軒",
      "photoUrl": "",
      "userId": "02931029383462924657"
     },
     "user_tz": -480
    },
    "id": "43b390ff"
   },
   "outputs": [],
   "source": [
    "def copyfile(path_from, path_to, categorical_name):\n",
    "    image_dir = sorted(os.listdir(path_from))\n",
    "    for i, file in enumerate(image_dir):\n",
    "      Path_from = os.path.join(path_from, file)\n",
    "      Path_to = os.path.join(path_to, categorical_name[int(file.split(\"_\")[0])])\n",
    "      shutil.copyfile(Path_from, os.path.join(Path_to,file))\n",
    "    \n",
    "        \n",
    "    \n",
    "       "
   ]
  },
  {
   "cell_type": "code",
   "execution_count": 6,
   "id": "D6Xmh4uZe-A3",
   "metadata": {
    "executionInfo": {
     "elapsed": 50908,
     "status": "ok",
     "timestamp": 1619003851932,
     "user": {
      "displayName": "陳仕軒",
      "photoUrl": "",
      "userId": "02931029383462924657"
     },
     "user_tz": -480
    },
    "id": "D6Xmh4uZe-A3"
   },
   "outputs": [],
   "source": [
    "def readfile(path,is_test):\n",
    "  image_dir = sorted(os.listdir(path))\n",
    "  x = np.zeros((len(image_dir), 128, 128, 3), dtype=np.uint8)\n",
    "  y = np.zeros((len(image_dir),11), dtype=np.uint8)\n",
    "  if is_test==False:\n",
    "    for i, file in enumerate(image_dir):\n",
    "      img = cv2.imread(os.path.join(path, file))\n",
    "      x[i, :, :] = cv2.resize(img,(128, 128))\n",
    "      y[i,int(file.split(\"_\")[0])] = 1\n",
    "    \n",
    "    return x, y\n",
    "  else:\n",
    "    for i, file in enumerate(image_dir):\n",
    "      img = cv2.imread(os.path.join(path, file))\n",
    "      x[i, :, :] = cv2.resize(img,(128, 128))\n",
    "            \n",
    "    return x"
   ]
  },
  {
   "cell_type": "code",
   "execution_count": 7,
   "id": "1a587fa5",
   "metadata": {
    "executionInfo": {
     "elapsed": 62842,
     "status": "ok",
     "timestamp": 1619003863870,
     "user": {
      "displayName": "陳仕軒",
      "photoUrl": "",
      "userId": "02931029383462924657"
     },
     "user_tz": -480
    },
    "id": "1a587fa5"
   },
   "outputs": [],
   "source": [
    "#採DataGenerator(flow_from_directory)的形式，其需要相同類別全部放入相同資料夾\n",
    "from_dir = './food-11'\n",
    "to_dir = './food_data'\n",
    "copyfile(os.path.join(from_dir,'training'),os.path.join(to_dir,'training'),categorical_name)"
   ]
  },
  {
   "cell_type": "code",
   "execution_count": 8,
   "id": "d4vggnn59vTe",
   "metadata": {
    "colab": {
     "base_uri": "https://localhost:8080/"
    },
    "executionInfo": {
     "elapsed": 68424,
     "status": "ok",
     "timestamp": 1619003869458,
     "user": {
      "displayName": "陳仕軒",
      "photoUrl": "",
      "userId": "02931029383462924657"
     },
     "user_tz": -480
    },
    "id": "d4vggnn59vTe",
    "outputId": "74ace99e-b23c-436e-e233-9ce5019409d4"
   },
   "outputs": [
    {
     "name": "stdout",
     "output_type": "stream",
     "text": [
      "Bread : 994\n",
      "Dairy product : 429\n",
      "Dessert : 1500\n",
      "Egg : 986\n",
      "Fried food : 848\n",
      "Meat : 1325\n",
      "Noodles_Pasta : 440\n",
      "Rice : 280\n",
      "Seafood : 855\n",
      "Soup : 1500\n",
      "Vegetable_Fruit : 709\n"
     ]
    }
   ],
   "source": [
    "#可以看到training data內各個類別間數量分配不是那麼平均，或許可以考慮做confusion matrix\n",
    "copyfile(os.path.join(from_dir,'validation'),os.path.join(to_dir,'validation'),categorical_name)\n",
    "food_data_dir = sorted(os.listdir(os.path.join(to_dir,'training')))\n",
    "for i, file in enumerate(food_data_dir):\n",
    "  print(file,':',len(os.listdir(os.path.join('./food_data/training',file))))"
   ]
  },
  {
   "cell_type": "code",
   "execution_count": 9,
   "id": "yjBolE_4BhAx",
   "metadata": {
    "colab": {
     "base_uri": "https://localhost:8080/"
    },
    "executionInfo": {
     "elapsed": 70184,
     "status": "ok",
     "timestamp": 1619003871224,
     "user": {
      "displayName": "陳仕軒",
      "photoUrl": "",
      "userId": "02931029383462924657"
     },
     "user_tz": -480
    },
    "id": "yjBolE_4BhAx",
    "outputId": "3dfbeabf-5b03-45ed-c38f-e7edb3cf0fef"
   },
   "outputs": [
    {
     "name": "stdout",
     "output_type": "stream",
     "text": [
      "Found 9866 images belonging to 11 classes.\n",
      "Found 3430 images belonging to 11 classes.\n"
     ]
    }
   ],
   "source": [
    "from keras.preprocessing.image import ImageDataGenerator\n",
    "\n",
    "train_generator = ImageDataGenerator(rescale=1./255).flow_from_directory(\n",
    "        # This is the target directory\n",
    "        './food_data/training',\n",
    "        target_size=(128, 128),\n",
    "        batch_size=20,\n",
    "        class_mode='categorical')\n",
    "\n",
    "validation_generator = ImageDataGenerator(rescale=1./255).flow_from_directory(\n",
    "        './food_data/validation',\n",
    "        target_size=(128, 128),\n",
    "        batch_size=20,\n",
    "        class_mode='categorical')"
   ]
  },
  {
   "cell_type": "code",
   "execution_count": 10,
   "id": "8Bl26IFdDY9K",
   "metadata": {
    "colab": {
     "base_uri": "https://localhost:8080/"
    },
    "executionInfo": {
     "elapsed": 70593,
     "status": "ok",
     "timestamp": 1619003871640,
     "user": {
      "displayName": "陳仕軒",
      "photoUrl": "",
      "userId": "02931029383462924657"
     },
     "user_tz": -480
    },
    "id": "8Bl26IFdDY9K",
    "outputId": "0bd5d7fc-72ee-46c6-e08b-66ca854bde21"
   },
   "outputs": [
    {
     "name": "stdout",
     "output_type": "stream",
     "text": [
      "data batch shape: (20, 128, 128, 3)\n",
      "labels batch shape: (20, 11)\n"
     ]
    }
   ],
   "source": [
    "for data_batch, labels_batch in train_generator:\n",
    "    print('data batch shape:', data_batch.shape)\n",
    "    print('labels batch shape:', labels_batch.shape)\n",
    "    break"
   ]
  },
  {
   "cell_type": "code",
   "execution_count": 11,
   "id": "aeb24b37",
   "metadata": {
    "colab": {
     "base_uri": "https://localhost:8080/"
    },
    "executionInfo": {
     "elapsed": 70588,
     "status": "ok",
     "timestamp": 1619003871641,
     "user": {
      "displayName": "陳仕軒",
      "photoUrl": "",
      "userId": "02931029383462924657"
     },
     "user_tz": -480
    },
    "id": "aeb24b37",
    "outputId": "2c6c0f1a-b338-4b2d-f59f-a471498f0967"
   },
   "outputs": [
    {
     "name": "stdout",
     "output_type": "stream",
     "text": [
      "Model: \"sequential\"\n",
      "_________________________________________________________________\n",
      "Layer (type)                 Output Shape              Param #   \n",
      "=================================================================\n",
      "conv2d (Conv2D)              (None, 126, 126, 32)      896       \n",
      "_________________________________________________________________\n",
      "max_pooling2d (MaxPooling2D) (None, 63, 63, 32)        0         \n",
      "_________________________________________________________________\n",
      "conv2d_1 (Conv2D)            (None, 61, 61, 64)        18496     \n",
      "_________________________________________________________________\n",
      "max_pooling2d_1 (MaxPooling2 (None, 30, 30, 64)        0         \n",
      "_________________________________________________________________\n",
      "conv2d_2 (Conv2D)            (None, 28, 28, 128)       73856     \n",
      "_________________________________________________________________\n",
      "max_pooling2d_2 (MaxPooling2 (None, 14, 14, 128)       0         \n",
      "_________________________________________________________________\n",
      "conv2d_3 (Conv2D)            (None, 12, 12, 128)       147584    \n",
      "_________________________________________________________________\n",
      "max_pooling2d_3 (MaxPooling2 (None, 6, 6, 128)         0         \n",
      "_________________________________________________________________\n",
      "flatten (Flatten)            (None, 4608)              0         \n",
      "_________________________________________________________________\n",
      "dense (Dense)                (None, 512)               2359808   \n",
      "_________________________________________________________________\n",
      "dense_1 (Dense)              (None, 11)                5643      \n",
      "=================================================================\n",
      "Total params: 2,606,283\n",
      "Trainable params: 2,606,283\n",
      "Non-trainable params: 0\n",
      "_________________________________________________________________\n"
     ]
    }
   ],
   "source": [
    "from keras import layers\n",
    "from keras import models\n",
    "\n",
    "model=models.Sequential()\n",
    "model.add(layers.Conv2D(32,(3,3),activation='relu',input_shape=(128,128,3)))\n",
    "model.add(layers.MaxPooling2D((2,2)))\n",
    "model.add(layers.Conv2D(64,(3,3),activation='relu'))\n",
    "model.add(layers.MaxPooling2D((2,2)))\n",
    "model.add(layers.Conv2D(128,(3,3),activation='relu'))\n",
    "model.add(layers.MaxPooling2D((2,2)))\n",
    "model.add(layers.Conv2D(128,(3,3),activation='relu'))\n",
    "model.add(layers.MaxPooling2D((2,2)))\n",
    "model.add(layers.Flatten())\n",
    "model.add(layers.Dense(512, activation='relu'))\n",
    "model.add(layers.Dense(11, activation='softmax'))\n",
    "\n",
    "model.summary()"
   ]
  },
  {
   "cell_type": "code",
   "execution_count": 12,
   "id": "e5c662ae",
   "metadata": {
    "executionInfo": {
     "elapsed": 70584,
     "status": "ok",
     "timestamp": 1619003871642,
     "user": {
      "displayName": "陳仕軒",
      "photoUrl": "",
      "userId": "02931029383462924657"
     },
     "user_tz": -480
    },
    "id": "e5c662ae"
   },
   "outputs": [],
   "source": [
    "from keras import optimizers\n",
    "\n",
    "model.compile(loss='categorical_crossentropy',\n",
    "       optimizer=optimizers.RMSprop(lr=1e-4),\n",
    "       metrics=['acc'])"
   ]
  },
  {
   "cell_type": "code",
   "execution_count": 13,
   "id": "GFnxum5mEPZh",
   "metadata": {
    "colab": {
     "base_uri": "https://localhost:8080/",
     "height": 489
    },
    "executionInfo": {
     "elapsed": 263397,
     "status": "error",
     "timestamp": 1619004309354,
     "user": {
      "displayName": "陳仕軒",
      "photoUrl": "",
      "userId": "02931029383462924657"
     },
     "user_tz": -480
    },
    "id": "GFnxum5mEPZh",
    "outputId": "2ec508ff-2d97-43f7-a541-cc5eb7a8d8cc"
   },
   "outputs": [
    {
     "name": "stdout",
     "output_type": "stream",
     "text": [
      "WARNING:tensorflow:From <ipython-input-13-f6bcaef75f25>:1: Model.fit_generator (from tensorflow.python.keras.engine.training) is deprecated and will be removed in a future version.\n",
      "Instructions for updating:\n",
      "Please use Model.fit, which supports generators.\n",
      "Epoch 1/30\n",
      "493/493 [==============================] - 266s 539ms/step - loss: 2.0605 - acc: 0.2740 - val_loss: 1.8860 - val_acc: 0.3243\n",
      "Epoch 2/30\n",
      "493/493 [==============================] - 246s 499ms/step - loss: 1.7952 - acc: 0.3748 - val_loss: 1.7339 - val_acc: 0.3927\n",
      "Epoch 3/30\n",
      "493/493 [==============================] - 247s 501ms/step - loss: 1.6543 - acc: 0.4276 - val_loss: 1.7943 - val_acc: 0.3901\n",
      "Epoch 4/30\n",
      "493/493 [==============================] - 246s 499ms/step - loss: 1.5420 - acc: 0.4677 - val_loss: 1.6666 - val_acc: 0.4251\n",
      "Epoch 5/30\n",
      "493/493 [==============================] - 247s 502ms/step - loss: 1.4427 - acc: 0.5056 - val_loss: 1.5868 - val_acc: 0.4550\n",
      "Epoch 6/30\n",
      "493/493 [==============================] - 246s 499ms/step - loss: 1.3504 - acc: 0.5337 - val_loss: 1.5435 - val_acc: 0.4766\n",
      "Epoch 7/30\n",
      "493/493 [==============================] - 232s 470ms/step - loss: 1.2682 - acc: 0.5663 - val_loss: 1.5128 - val_acc: 0.4839\n",
      "Epoch 8/30\n",
      "493/493 [==============================] - 231s 468ms/step - loss: 1.1852 - acc: 0.5936 - val_loss: 1.4690 - val_acc: 0.5020\n",
      "Epoch 9/30\n",
      "493/493 [==============================] - 230s 466ms/step - loss: 1.1001 - acc: 0.6272 - val_loss: 1.4673 - val_acc: 0.5149\n",
      "Epoch 10/30\n",
      "493/493 [==============================] - 231s 468ms/step - loss: 1.0241 - acc: 0.6525 - val_loss: 1.4908 - val_acc: 0.5085\n",
      "Epoch 11/30\n",
      "493/493 [==============================] - 231s 469ms/step - loss: 0.9419 - acc: 0.6815 - val_loss: 1.5135 - val_acc: 0.5190\n",
      "Epoch 12/30\n",
      "493/493 [==============================] - 230s 466ms/step - loss: 0.8528 - acc: 0.7131 - val_loss: 1.5065 - val_acc: 0.5208\n",
      "Epoch 13/30\n",
      "493/493 [==============================] - 230s 467ms/step - loss: 0.7643 - acc: 0.7432 - val_loss: 1.5937 - val_acc: 0.5111\n",
      "Epoch 14/30\n",
      "493/493 [==============================] - 232s 470ms/step - loss: 0.6704 - acc: 0.7765 - val_loss: 1.6332 - val_acc: 0.5137\n",
      "Epoch 15/30\n",
      "493/493 [==============================] - 239s 484ms/step - loss: 0.5760 - acc: 0.8141 - val_loss: 1.6715 - val_acc: 0.5295\n",
      "Epoch 16/30\n",
      "493/493 [==============================] - 239s 485ms/step - loss: 0.4819 - acc: 0.8454 - val_loss: 1.9300 - val_acc: 0.4971\n",
      "Epoch 17/30\n",
      "493/493 [==============================] - 241s 489ms/step - loss: 0.3997 - acc: 0.8759 - val_loss: 1.9272 - val_acc: 0.5070\n",
      "Epoch 18/30\n",
      "493/493 [==============================] - 292s 593ms/step - loss: 0.3193 - acc: 0.9017 - val_loss: 2.0812 - val_acc: 0.5061\n",
      "Epoch 19/30\n",
      "493/493 [==============================] - 285s 578ms/step - loss: 0.2542 - acc: 0.9197 - val_loss: 2.1747 - val_acc: 0.5067\n",
      "Epoch 20/30\n",
      "493/493 [==============================] - 286s 579ms/step - loss: 0.2013 - acc: 0.9357 - val_loss: 2.2774 - val_acc: 0.5193\n",
      "Epoch 21/30\n",
      "493/493 [==============================] - 264s 535ms/step - loss: 0.1594 - acc: 0.9530 - val_loss: 2.5081 - val_acc: 0.5190\n",
      "Epoch 22/30\n",
      "493/493 [==============================] - 250s 507ms/step - loss: 0.1239 - acc: 0.9631 - val_loss: 2.6364 - val_acc: 0.5140\n",
      "Epoch 23/30\n",
      "493/493 [==============================] - 277s 561ms/step - loss: 0.1013 - acc: 0.9696 - val_loss: 2.7736 - val_acc: 0.5243\n",
      "Epoch 24/30\n",
      "493/493 [==============================] - 286s 580ms/step - loss: 0.0824 - acc: 0.9756 - val_loss: 3.0806 - val_acc: 0.4944\n",
      "Epoch 25/30\n",
      "493/493 [==============================] - 290s 587ms/step - loss: 0.0706 - acc: 0.9797 - val_loss: 3.2192 - val_acc: 0.5012\n",
      "Epoch 26/30\n",
      "493/493 [==============================] - 278s 563ms/step - loss: 0.0572 - acc: 0.9836 - val_loss: 3.3633 - val_acc: 0.5058\n",
      "Epoch 27/30\n",
      "493/493 [==============================] - 277s 563ms/step - loss: 0.0542 - acc: 0.9842 - val_loss: 3.3321 - val_acc: 0.5132\n",
      "Epoch 28/30\n",
      "493/493 [==============================] - 276s 559ms/step - loss: 0.0392 - acc: 0.9884 - val_loss: 3.6442 - val_acc: 0.5146\n",
      "Epoch 29/30\n",
      "493/493 [==============================] - 279s 566ms/step - loss: 0.0378 - acc: 0.9887 - val_loss: 3.8180 - val_acc: 0.4968\n",
      "Epoch 30/30\n",
      "493/493 [==============================] - 276s 560ms/step - loss: 0.0364 - acc: 0.9896 - val_loss: 3.8540 - val_acc: 0.5114\n"
     ]
    }
   ],
   "source": [
    "history = model.fit_generator(\n",
    "      train_generator,\n",
    "      #總共9866，每批20\n",
    "      steps_per_epoch=493,\n",
    "      epochs=30,\n",
    "      validation_data=validation_generator,\n",
    "      #總共3430，每批20\n",
    "      validation_steps=171)"
   ]
  },
  {
   "cell_type": "code",
   "execution_count": 14,
   "id": "_8HkeMV9dHP4",
   "metadata": {
    "executionInfo": {
     "elapsed": 36,
     "status": "aborted",
     "timestamp": 1619004309357,
     "user": {
      "displayName": "陳仕軒",
      "photoUrl": "",
      "userId": "02931029383462924657"
     },
     "user_tz": -480
    },
    "id": "_8HkeMV9dHP4"
   },
   "outputs": [
    {
     "data": {
      "image/png": "[encoded data removed]",
      "text/plain": [
       "<Figure size 576x396 with 1 Axes>"
      ]
     },
     "metadata": {},
     "output_type": "display_data"
    },
    {
     "data": {
      "image/png": "[encoded data removed]",
      "text/plain": [
       "<Figure size 576x396 with 1 Axes>"
      ]
     },
     "metadata": {},
     "output_type": "display_data"
    }
   ],
   "source": [
    "#training data之準確率接近99%，但validation卻只有50%，懷疑有overfitting\n",
    "acc = history.history['acc']\n",
    "val_acc = history.history['val_acc']\n",
    "loss = history.history['loss']\n",
    "val_loss = history.history['val_loss']\n",
    "\n",
    "\n",
    "def plot_loss(train_loss,val_loss,title):\n",
    "  epochs = range(len(train_loss))\n",
    "  plt.plot(epochs, train_loss, 'o', label='Training acc')\n",
    "  plt.plot(epochs, val_loss, '-', label='Validation acc')\n",
    "  plt.title('Training and validation accuracy')\n",
    "  plt.legend()\n",
    "  plt.show()\n",
    "\n",
    "\n",
    "\n",
    "plot_loss(acc,val_acc,'Training and validation accuracy')\n",
    "plot_loss(loss,val_loss,'Training and validation loss')\n"
   ]
  },
  {
   "cell_type": "code",
   "execution_count": 15,
   "id": "-Qv8P7qvezHE",
   "metadata": {
    "executionInfo": {
     "elapsed": 28,
     "status": "aborted",
     "timestamp": 1619004309357,
     "user": {
      "displayName": "陳仕軒",
      "photoUrl": "",
      "userId": "02931029383462924657"
     },
     "user_tz": -480
    },
    "id": "-Qv8P7qvezHE"
   },
   "outputs": [
    {
     "name": "stdout",
     "output_type": "stream",
     "text": [
      "(9866, 128, 128, 3) (9866, 11)\n",
      "(3430, 128, 128, 3) (3430, 11)\n",
      "(3347, 128, 128, 3)\n"
     ]
    }
   ],
   "source": [
    "#由drive提取資料實在太慢，改採ImageDataGenerator(flow)的形式\n",
    "train_x,train_y = readfile('./food-11/training',False)\n",
    "val_x,val_y = readfile('./food-11/validation',False)\n",
    "test_x = readfile('./food-11/testing',True)\n",
    "print(train_x.shape,train_y.shape)\n",
    "print(val_x.shape,val_y.shape)\n",
    "print(test_x.shape)"
   ]
  },
  {
   "cell_type": "code",
   "execution_count": 16,
   "id": "yE4gevw5eURx",
   "metadata": {
    "executionInfo": {
     "elapsed": 24,
     "status": "aborted",
     "timestamp": 1619004309358,
     "user": {
      "displayName": "陳仕軒",
      "photoUrl": "",
      "userId": "02931029383462924657"
     },
     "user_tz": -480
    },
    "id": "yE4gevw5eURx"
   },
   "outputs": [],
   "source": [
    "#做data augmentation，L2 regularization，drop_out避免overfitting\n",
    "train_datagen = ImageDataGenerator(\n",
    "    rescale=1./255,\n",
    "    rotation_range=40,\n",
    "    width_shift_range=0.2,\n",
    "    height_shift_range=0.2,\n",
    "    shear_range=0.2,\n",
    "    zoom_range=0.2,\n",
    "    horizontal_flip=True,)\n",
    "\n",
    "train_generator = train_datagen.flow(train_x,train_y,batch_size=20)\n",
    "\n",
    "validation_generator = ImageDataGenerator(rescale=1./255).flow(val_x,val_y,batch_size=20)"
   ]
  },
  {
   "cell_type": "code",
   "execution_count": 17,
   "id": "pJOXoNWAOrQ_",
   "metadata": {
    "executionInfo": {
     "elapsed": 21,
     "status": "aborted",
     "timestamp": 1619004309359,
     "user": {
      "displayName": "陳仕軒",
      "photoUrl": "",
      "userId": "02931029383462924657"
     },
     "user_tz": -480
    },
    "id": "pJOXoNWAOrQ_"
   },
   "outputs": [
    {
     "name": "stdout",
     "output_type": "stream",
     "text": [
      "Model: \"sequential_1\"\n",
      "_________________________________________________________________\n",
      "Layer (type)                 Output Shape              Param #   \n",
      "=================================================================\n",
      "conv2d_4 (Conv2D)            (None, 126, 126, 32)      896       \n",
      "_________________________________________________________________\n",
      "max_pooling2d_4 (MaxPooling2 (None, 63, 63, 32)        0         \n",
      "_________________________________________________________________\n",
      "conv2d_5 (Conv2D)            (None, 61, 61, 64)        18496     \n",
      "_________________________________________________________________\n",
      "max_pooling2d_5 (MaxPooling2 (None, 30, 30, 64)        0         \n",
      "_________________________________________________________________\n",
      "conv2d_6 (Conv2D)            (None, 28, 28, 128)       73856     \n",
      "_________________________________________________________________\n",
      "max_pooling2d_6 (MaxPooling2 (None, 14, 14, 128)       0         \n",
      "_________________________________________________________________\n",
      "conv2d_7 (Conv2D)            (None, 12, 12, 128)       147584    \n",
      "_________________________________________________________________\n",
      "max_pooling2d_7 (MaxPooling2 (None, 6, 6, 128)         0         \n",
      "_________________________________________________________________\n",
      "flatten_1 (Flatten)          (None, 4608)              0         \n",
      "_________________________________________________________________\n",
      "dropout (Dropout)            (None, 4608)              0         \n",
      "_________________________________________________________________\n",
      "dense_2 (Dense)              (None, 512)               2359808   \n",
      "_________________________________________________________________\n",
      "dense_3 (Dense)              (None, 11)                5643      \n",
      "=================================================================\n",
      "Total params: 2,606,283\n",
      "Trainable params: 2,606,283\n",
      "Non-trainable params: 0\n",
      "_________________________________________________________________\n"
     ]
    }
   ],
   "source": [
    "from keras import regularizers\n",
    "\n",
    "model=models.Sequential()\n",
    "model.add(layers.Conv2D(32,(3,3),activation='relu',input_shape=(128,128,3)))\n",
    "model.add(layers.MaxPooling2D((2,2)))\n",
    "model.add(layers.Conv2D(64,(3,3),activation='relu'))\n",
    "model.add(layers.MaxPooling2D((2,2)))\n",
    "model.add(layers.Conv2D(128,(3,3),activation='relu'))\n",
    "model.add(layers.MaxPooling2D((2,2)))\n",
    "model.add(layers.Conv2D(128,(3,3),activation='relu'))\n",
    "model.add(layers.MaxPooling2D((2,2)))\n",
    "model.add(layers.Flatten())\n",
    "model.add(layers.Dropout(0.5))\n",
    "model.add(layers.Dense(512, kernel_regularizer=regularizers.l2(0.001), activation='relu'))\n",
    "model.add(layers.Dense(11, activation='softmax'))\n",
    "\n",
    "model.compile(loss='categorical_crossentropy',\n",
    "       optimizer=optimizers.Adam(lr=1e-3),\n",
    "       metrics=['acc'])\n",
    "model.summary()"
   ]
  },
  {
   "cell_type": "code",
   "execution_count": 18,
   "id": "50WYK77dQ6LL",
   "metadata": {
    "executionInfo": {
     "elapsed": 17,
     "status": "aborted",
     "timestamp": 1619004309359,
     "user": {
      "displayName": "陳仕軒",
      "photoUrl": "",
      "userId": "02931029383462924657"
     },
     "user_tz": -480
    },
    "id": "50WYK77dQ6LL"
   },
   "outputs": [
    {
     "name": "stdout",
     "output_type": "stream",
     "text": [
      "Epoch 1/100\n",
      "493/493 [==============================] - 249s 505ms/step - loss: 2.3670 - acc: 0.1884 - val_loss: 2.1807 - val_acc: 0.2357\n",
      "Epoch 2/100\n",
      "493/493 [==============================] - 255s 518ms/step - loss: 2.1201 - acc: 0.2716 - val_loss: 1.9504 - val_acc: 0.3251\n",
      "Epoch 3/100\n",
      "493/493 [==============================] - 252s 512ms/step - loss: 2.0329 - acc: 0.3048 - val_loss: 1.9410 - val_acc: 0.3389\n",
      "Epoch 4/100\n",
      "493/493 [==============================] - 250s 507ms/step - loss: 1.9741 - acc: 0.3343 - val_loss: 1.9022 - val_acc: 0.3635\n",
      "Epoch 5/100\n",
      "493/493 [==============================] - 248s 502ms/step - loss: 1.9167 - acc: 0.3678 - val_loss: 1.7588 - val_acc: 0.4199\n",
      "Epoch 6/100\n",
      "493/493 [==============================] - 252s 511ms/step - loss: 1.8624 - acc: 0.3880 - val_loss: 1.7109 - val_acc: 0.4474\n",
      "Epoch 7/100\n",
      "493/493 [==============================] - 243s 493ms/step - loss: 1.7835 - acc: 0.4144 - val_loss: 1.6654 - val_acc: 0.4643\n",
      "Epoch 8/100\n",
      "493/493 [==============================] - 245s 497ms/step - loss: 1.7245 - acc: 0.4398 - val_loss: 1.9238 - val_acc: 0.4123\n",
      "Epoch 9/100\n",
      "493/493 [==============================] - 245s 496ms/step - loss: 1.6764 - acc: 0.4606 - val_loss: 1.5554 - val_acc: 0.5213\n",
      "Epoch 10/100\n",
      "493/493 [==============================] - 223s 452ms/step - loss: 1.6400 - acc: 0.4762 - val_loss: 1.4605 - val_acc: 0.5518\n",
      "Epoch 11/100\n",
      "493/493 [==============================] - 227s 461ms/step - loss: 1.5840 - acc: 0.4996 - val_loss: 1.5348 - val_acc: 0.5237\n",
      "Epoch 12/100\n",
      "493/493 [==============================] - 224s 455ms/step - loss: 1.5658 - acc: 0.5074 - val_loss: 1.5370 - val_acc: 0.5281\n",
      "Epoch 13/100\n",
      "493/493 [==============================] - 224s 455ms/step - loss: 1.5370 - acc: 0.5112 - val_loss: 1.4753 - val_acc: 0.5401\n",
      "Epoch 14/100\n",
      "493/493 [==============================] - 223s 453ms/step - loss: 1.4998 - acc: 0.5324 - val_loss: 1.4112 - val_acc: 0.5591\n",
      "Epoch 15/100\n",
      "493/493 [==============================] - 224s 454ms/step - loss: 1.4887 - acc: 0.5305 - val_loss: 1.5047 - val_acc: 0.5249\n",
      "Epoch 16/100\n",
      "493/493 [==============================] - 223s 453ms/step - loss: 1.4563 - acc: 0.5438 - val_loss: 1.4233 - val_acc: 0.5690\n",
      "Epoch 17/100\n",
      "493/493 [==============================] - 224s 454ms/step - loss: 1.4431 - acc: 0.5499 - val_loss: 1.4383 - val_acc: 0.5675\n",
      "Epoch 18/100\n",
      "493/493 [==============================] - 225s 457ms/step - loss: 1.4176 - acc: 0.5562 - val_loss: 1.3905 - val_acc: 0.5848\n",
      "Epoch 19/100\n",
      "493/493 [==============================] - 223s 453ms/step - loss: 1.4048 - acc: 0.5642 - val_loss: 1.3445 - val_acc: 0.5939\n",
      "Epoch 20/100\n",
      "493/493 [==============================] - 224s 454ms/step - loss: 1.4102 - acc: 0.5641 - val_loss: 1.4243 - val_acc: 0.5728\n",
      "Epoch 21/100\n",
      "493/493 [==============================] - 224s 454ms/step - loss: 1.3613 - acc: 0.5703 - val_loss: 1.3375 - val_acc: 0.5947\n",
      "Epoch 22/100\n",
      "493/493 [==============================] - 223s 453ms/step - loss: 1.3660 - acc: 0.5770 - val_loss: 1.3864 - val_acc: 0.5851\n",
      "Epoch 23/100\n",
      "493/493 [==============================] - 209s 425ms/step - loss: 1.3482 - acc: 0.5898 - val_loss: 1.3140 - val_acc: 0.6026\n",
      "Epoch 24/100\n",
      "493/493 [==============================] - 207s 419ms/step - loss: 1.3304 - acc: 0.5889 - val_loss: 1.3135 - val_acc: 0.6091\n",
      "Epoch 25/100\n",
      "493/493 [==============================] - 207s 419ms/step - loss: 1.3156 - acc: 0.5969 - val_loss: 1.2431 - val_acc: 0.6266\n",
      "Epoch 26/100\n",
      "493/493 [==============================] - 207s 420ms/step - loss: 1.3149 - acc: 0.5992 - val_loss: 1.3430 - val_acc: 0.5886\n",
      "Epoch 27/100\n",
      "493/493 [==============================] - 207s 420ms/step - loss: 1.2998 - acc: 0.5970 - val_loss: 1.2868 - val_acc: 0.6222\n",
      "Epoch 28/100\n",
      "493/493 [==============================] - 207s 420ms/step - loss: 1.2964 - acc: 0.6004 - val_loss: 1.3270 - val_acc: 0.6076\n",
      "Epoch 29/100\n",
      "493/493 [==============================] - 207s 420ms/step - loss: 1.2868 - acc: 0.6062 - val_loss: 1.2557 - val_acc: 0.6202\n",
      "Epoch 30/100\n",
      "493/493 [==============================] - 208s 421ms/step - loss: 1.2566 - acc: 0.6147 - val_loss: 1.2009 - val_acc: 0.6377\n",
      "Epoch 31/100\n",
      "493/493 [==============================] - 207s 420ms/step - loss: 1.2650 - acc: 0.6135 - val_loss: 1.1694 - val_acc: 0.6456\n",
      "Epoch 32/100\n",
      "493/493 [==============================] - 207s 420ms/step - loss: 1.2551 - acc: 0.6230 - val_loss: 1.1991 - val_acc: 0.6494\n",
      "Epoch 33/100\n",
      "493/493 [==============================] - 207s 420ms/step - loss: 1.2412 - acc: 0.6205 - val_loss: 1.3773 - val_acc: 0.5965\n",
      "Epoch 34/100\n",
      "493/493 [==============================] - 207s 420ms/step - loss: 1.2441 - acc: 0.6177 - val_loss: 1.2146 - val_acc: 0.6351\n",
      "Epoch 35/100\n",
      "493/493 [==============================] - 207s 420ms/step - loss: 1.2213 - acc: 0.6293 - val_loss: 1.1980 - val_acc: 0.6415\n",
      "Epoch 36/100\n",
      "493/493 [==============================] - 206s 418ms/step - loss: 1.2278 - acc: 0.6263 - val_loss: 1.3176 - val_acc: 0.6231\n",
      "Epoch 37/100\n",
      "493/493 [==============================] - 206s 419ms/step - loss: 1.2068 - acc: 0.6291 - val_loss: 1.2015 - val_acc: 0.6471\n",
      "Epoch 38/100\n",
      "493/493 [==============================] - 208s 421ms/step - loss: 1.1993 - acc: 0.6308 - val_loss: 1.2151 - val_acc: 0.6415\n",
      "Epoch 39/100\n",
      "493/493 [==============================] - 207s 419ms/step - loss: 1.1938 - acc: 0.6411 - val_loss: 1.2621 - val_acc: 0.6184\n",
      "Epoch 40/100\n",
      "493/493 [==============================] - 206s 417ms/step - loss: 1.1872 - acc: 0.6425 - val_loss: 1.2317 - val_acc: 0.6292\n",
      "Epoch 41/100\n",
      "493/493 [==============================] - 207s 419ms/step - loss: 1.1871 - acc: 0.6437 - val_loss: 1.2885 - val_acc: 0.6292\n",
      "Epoch 42/100\n",
      "493/493 [==============================] - 209s 424ms/step - loss: 1.1762 - acc: 0.6438 - val_loss: 1.2113 - val_acc: 0.6520\n",
      "Epoch 43/100\n",
      "493/493 [==============================] - 206s 418ms/step - loss: 1.1730 - acc: 0.6397 - val_loss: 1.1832 - val_acc: 0.6576\n",
      "Epoch 44/100\n",
      "493/493 [==============================] - 206s 418ms/step - loss: 1.1562 - acc: 0.6543 - val_loss: 1.2285 - val_acc: 0.6433\n",
      "Epoch 45/100\n",
      "493/493 [==============================] - 205s 417ms/step - loss: 1.1621 - acc: 0.6474 - val_loss: 1.2109 - val_acc: 0.6450\n",
      "Epoch 46/100\n",
      "493/493 [==============================] - 206s 418ms/step - loss: 1.1638 - acc: 0.6479 - val_loss: 1.1906 - val_acc: 0.6550\n",
      "Epoch 47/100\n",
      "493/493 [==============================] - 206s 418ms/step - loss: 1.1397 - acc: 0.6596 - val_loss: 1.1345 - val_acc: 0.6655\n",
      "Epoch 48/100\n",
      "493/493 [==============================] - 206s 418ms/step - loss: 1.1424 - acc: 0.6537 - val_loss: 1.1884 - val_acc: 0.6506\n",
      "Epoch 49/100\n",
      "493/493 [==============================] - 206s 418ms/step - loss: 1.1262 - acc: 0.6613 - val_loss: 1.2113 - val_acc: 0.6427\n",
      "Epoch 50/100\n",
      "493/493 [==============================] - 206s 418ms/step - loss: 1.1270 - acc: 0.6571 - val_loss: 1.1608 - val_acc: 0.6561\n",
      "Epoch 51/100\n",
      "493/493 [==============================] - 206s 417ms/step - loss: 1.1232 - acc: 0.6643 - val_loss: 1.1135 - val_acc: 0.6734\n",
      "Epoch 52/100\n",
      "493/493 [==============================] - 206s 418ms/step - loss: 1.1282 - acc: 0.6643 - val_loss: 1.1805 - val_acc: 0.6518\n",
      "Epoch 53/100\n",
      "493/493 [==============================] - 207s 419ms/step - loss: 1.1159 - acc: 0.6694 - val_loss: 1.1196 - val_acc: 0.6684\n",
      "Epoch 54/100\n",
      "493/493 [==============================] - 207s 419ms/step - loss: 1.1161 - acc: 0.6631 - val_loss: 1.1748 - val_acc: 0.6611\n",
      "Epoch 55/100\n",
      "493/493 [==============================] - 206s 419ms/step - loss: 1.0932 - acc: 0.6711 - val_loss: 1.1644 - val_acc: 0.6526\n",
      "Epoch 56/100\n",
      "493/493 [==============================] - 206s 418ms/step - loss: 1.0997 - acc: 0.6738 - val_loss: 1.1480 - val_acc: 0.6670\n",
      "Epoch 57/100\n",
      "493/493 [==============================] - 207s 420ms/step - loss: 1.0927 - acc: 0.6719 - val_loss: 1.0967 - val_acc: 0.6833\n",
      "Epoch 58/100\n",
      "493/493 [==============================] - 207s 420ms/step - loss: 1.0857 - acc: 0.6712 - val_loss: 1.2451 - val_acc: 0.6547\n",
      "Epoch 59/100\n",
      "493/493 [==============================] - 207s 419ms/step - loss: 1.0831 - acc: 0.6788 - val_loss: 1.1239 - val_acc: 0.6746\n",
      "Epoch 60/100\n"
     ]
    },
    {
     "name": "stdout",
     "output_type": "stream",
     "text": [
      "493/493 [==============================] - 206s 418ms/step - loss: 1.0823 - acc: 0.6767 - val_loss: 1.1227 - val_acc: 0.6754\n",
      "Epoch 61/100\n",
      "493/493 [==============================] - 207s 420ms/step - loss: 1.0874 - acc: 0.6797 - val_loss: 1.1846 - val_acc: 0.6553\n",
      "Epoch 62/100\n",
      "493/493 [==============================] - 207s 420ms/step - loss: 1.1008 - acc: 0.6697 - val_loss: 1.1673 - val_acc: 0.6667\n",
      "Epoch 63/100\n",
      "493/493 [==============================] - 206s 418ms/step - loss: 1.0798 - acc: 0.6750 - val_loss: 1.1830 - val_acc: 0.6518\n",
      "Epoch 64/100\n",
      "493/493 [==============================] - 206s 418ms/step - loss: 1.0581 - acc: 0.6838 - val_loss: 1.0964 - val_acc: 0.6898\n",
      "Epoch 65/100\n",
      "493/493 [==============================] - 206s 418ms/step - loss: 1.0506 - acc: 0.6882 - val_loss: 1.1869 - val_acc: 0.6711\n",
      "Epoch 66/100\n",
      "493/493 [==============================] - 206s 418ms/step - loss: 1.0755 - acc: 0.6788 - val_loss: 1.1389 - val_acc: 0.6708\n",
      "Epoch 67/100\n",
      "493/493 [==============================] - 206s 418ms/step - loss: 1.0498 - acc: 0.6891 - val_loss: 1.3099 - val_acc: 0.6377\n",
      "Epoch 68/100\n",
      "493/493 [==============================] - 206s 418ms/step - loss: 1.0450 - acc: 0.6853 - val_loss: 1.0667 - val_acc: 0.7035\n",
      "Epoch 69/100\n",
      "493/493 [==============================] - 206s 418ms/step - loss: 1.0642 - acc: 0.6845 - val_loss: 1.0685 - val_acc: 0.6974\n",
      "Epoch 70/100\n",
      "493/493 [==============================] - 206s 418ms/step - loss: 1.0537 - acc: 0.6821 - val_loss: 1.1173 - val_acc: 0.6801\n",
      "Epoch 71/100\n",
      "493/493 [==============================] - 207s 419ms/step - loss: 1.0395 - acc: 0.6925 - val_loss: 1.1113 - val_acc: 0.6871\n",
      "Epoch 72/100\n",
      "493/493 [==============================] - 207s 419ms/step - loss: 1.0383 - acc: 0.6907 - val_loss: 1.1210 - val_acc: 0.6863\n",
      "Epoch 73/100\n",
      "493/493 [==============================] - 206s 418ms/step - loss: 1.0318 - acc: 0.6901 - val_loss: 1.1007 - val_acc: 0.6915\n",
      "Epoch 74/100\n",
      "493/493 [==============================] - 206s 418ms/step - loss: 1.0295 - acc: 0.6880 - val_loss: 1.1014 - val_acc: 0.6901\n",
      "Epoch 75/100\n",
      "493/493 [==============================] - 207s 419ms/step - loss: 1.0378 - acc: 0.6955 - val_loss: 1.1407 - val_acc: 0.6827\n",
      "Epoch 76/100\n",
      "493/493 [==============================] - 206s 418ms/step - loss: 1.0281 - acc: 0.6911 - val_loss: 1.1258 - val_acc: 0.6766\n",
      "Epoch 77/100\n",
      "493/493 [==============================] - 206s 418ms/step - loss: 1.0133 - acc: 0.6927 - val_loss: 1.0489 - val_acc: 0.7035\n",
      "Epoch 78/100\n",
      "493/493 [==============================] - 206s 418ms/step - loss: 1.0088 - acc: 0.7021 - val_loss: 1.0607 - val_acc: 0.7085\n",
      "Epoch 79/100\n",
      "493/493 [==============================] - 207s 419ms/step - loss: 1.0064 - acc: 0.6998 - val_loss: 1.1047 - val_acc: 0.6819\n",
      "Epoch 80/100\n",
      "493/493 [==============================] - 207s 419ms/step - loss: 1.0106 - acc: 0.7017 - val_loss: 1.2332 - val_acc: 0.6468\n",
      "Epoch 81/100\n",
      "493/493 [==============================] - 206s 418ms/step - loss: 1.0119 - acc: 0.6956 - val_loss: 1.0836 - val_acc: 0.6868\n",
      "Epoch 82/100\n",
      "493/493 [==============================] - 206s 419ms/step - loss: 0.9964 - acc: 0.7076 - val_loss: 1.0728 - val_acc: 0.6944\n",
      "Epoch 83/100\n",
      "493/493 [==============================] - 206s 418ms/step - loss: 1.0058 - acc: 0.7027 - val_loss: 1.1152 - val_acc: 0.6766\n",
      "Epoch 84/100\n",
      "493/493 [==============================] - 207s 420ms/step - loss: 0.9972 - acc: 0.7088 - val_loss: 1.1272 - val_acc: 0.6865\n",
      "Epoch 85/100\n",
      "493/493 [==============================] - 206s 418ms/step - loss: 0.9984 - acc: 0.7028 - val_loss: 1.2163 - val_acc: 0.6526\n",
      "Epoch 86/100\n",
      "493/493 [==============================] - 206s 417ms/step - loss: 1.0137 - acc: 0.6969 - val_loss: 1.2071 - val_acc: 0.6564\n",
      "Epoch 87/100\n",
      "493/493 [==============================] - 206s 418ms/step - loss: 0.9859 - acc: 0.7044 - val_loss: 1.0847 - val_acc: 0.6871\n",
      "Epoch 88/100\n",
      "493/493 [==============================] - 206s 419ms/step - loss: 0.9941 - acc: 0.7051 - val_loss: 1.0669 - val_acc: 0.6944\n",
      "Epoch 89/100\n",
      "493/493 [==============================] - 207s 420ms/step - loss: 0.9896 - acc: 0.7081 - val_loss: 1.1514 - val_acc: 0.6751\n",
      "Epoch 90/100\n",
      "493/493 [==============================] - 206s 419ms/step - loss: 0.9981 - acc: 0.7026 - val_loss: 1.2683 - val_acc: 0.6368\n",
      "Epoch 91/100\n",
      "493/493 [==============================] - 206s 418ms/step - loss: 0.9902 - acc: 0.7065 - val_loss: 1.1492 - val_acc: 0.6699\n",
      "Epoch 92/100\n",
      "493/493 [==============================] - 206s 419ms/step - loss: 0.9783 - acc: 0.7093 - val_loss: 1.0471 - val_acc: 0.7061\n",
      "Epoch 93/100\n",
      "493/493 [==============================] - 207s 420ms/step - loss: 0.9834 - acc: 0.7092 - val_loss: 1.2320 - val_acc: 0.6629\n",
      "Epoch 94/100\n",
      "493/493 [==============================] - 206s 418ms/step - loss: 0.9974 - acc: 0.7023 - val_loss: 1.1732 - val_acc: 0.6769\n",
      "Epoch 95/100\n",
      "493/493 [==============================] - 206s 419ms/step - loss: 0.9788 - acc: 0.7103 - val_loss: 1.1522 - val_acc: 0.6810\n",
      "Epoch 96/100\n",
      "493/493 [==============================] - 206s 418ms/step - loss: 0.9836 - acc: 0.7093 - val_loss: 0.9877 - val_acc: 0.7211\n",
      "Epoch 97/100\n",
      "493/493 [==============================] - 207s 419ms/step - loss: 0.9670 - acc: 0.7100 - val_loss: 1.0479 - val_acc: 0.7041\n",
      "Epoch 98/100\n",
      "493/493 [==============================] - 207s 419ms/step - loss: 0.9641 - acc: 0.7209 - val_loss: 1.1756 - val_acc: 0.6699\n",
      "Epoch 99/100\n",
      "493/493 [==============================] - 207s 419ms/step - loss: 0.9775 - acc: 0.7163 - val_loss: 1.1922 - val_acc: 0.6661\n",
      "Epoch 100/100\n",
      "493/493 [==============================] - 206s 419ms/step - loss: 0.9583 - acc: 0.7180 - val_loss: 1.0440 - val_acc: 0.7020\n"
     ]
    }
   ],
   "source": [
    "history = model.fit_generator(\n",
    "      train_generator,\n",
    "      #總共9866，每批20\n",
    "      steps_per_epoch=493,\n",
    "      epochs=100,\n",
    "      validation_data=validation_generator,\n",
    "      #總共3430，每批20\n",
    "      validation_steps=171)"
   ]
  },
  {
   "cell_type": "code",
   "execution_count": 19,
   "id": "cj8qsYZPGPX2",
   "metadata": {
    "executionInfo": {
     "elapsed": 14,
     "status": "aborted",
     "timestamp": 1619004309361,
     "user": {
      "displayName": "陳仕軒",
      "photoUrl": "",
      "userId": "02931029383462924657"
     },
     "user_tz": -480
    },
    "id": "cj8qsYZPGPX2"
   },
   "outputs": [
    {
     "data": {
      "image/png": "[encoded data removed]",
      "text/plain": [
       "<Figure size 576x396 with 1 Axes>"
      ]
     },
     "metadata": {},
     "output_type": "display_data"
    },
    {
     "data": {
      "image/png": "[encoded data removed]",
      "text/plain": [
       "<Figure size 576x396 with 1 Axes>"
      ]
     },
     "metadata": {},
     "output_type": "display_data"
    }
   ],
   "source": [
    "acc = history.history['acc']\n",
    "val_acc = history.history['val_acc']\n",
    "loss = history.history['loss']\n",
    "val_loss = history.history['val_loss']\n",
    "\n",
    "\n",
    "plot_loss(acc,val_acc,'Training and validation accuracy')\n",
    "plot_loss(loss,val_loss,'Training and validation loss')"
   ]
  },
  {
   "cell_type": "code",
   "execution_count": 25,
   "id": "1d6fea56",
   "metadata": {},
   "outputs": [
    {
     "name": "stdout",
     "output_type": "stream",
     "text": [
      "(13296, 128, 128, 3) (13296, 11)\n"
     ]
    }
   ],
   "source": [
    "#結果看起來不在overfitting了，並且從原本的validation50%準確率到現在有近70%。\n",
    "#接下來是要將training和validation和在一起在做一次訓練，epoch=70應該就足夠了\n",
    "total_train_x=np.concatenate((train_x, val_x), axis=0)\n",
    "total_train_y=np.concatenate((train_y, val_y), axis=0)\n",
    "print(total_train_x.shape,total_train_y.shape)\n",
    "total_train_generator = train_datagen.flow(total_train_x,total_train_y,batch_size=20)"
   ]
  },
  {
   "cell_type": "code",
   "execution_count": 26,
   "id": "a6d74506",
   "metadata": {},
   "outputs": [
    {
     "name": "stdout",
     "output_type": "stream",
     "text": [
      "Epoch 1/90\n",
      "664/664 [==============================] - 323s 486ms/step - loss: 1.0215 - acc: 0.7001\n",
      "Epoch 2/90\n",
      "664/664 [==============================] - 328s 494ms/step - loss: 1.0059 - acc: 0.7044\n",
      "Epoch 3/90\n",
      "664/664 [==============================] - 325s 490ms/step - loss: 1.0099 - acc: 0.6971\n",
      "Epoch 4/90\n",
      "664/664 [==============================] - 312s 469ms/step - loss: 0.9907 - acc: 0.7053\n",
      "Epoch 5/90\n",
      "664/664 [==============================] - 302s 455ms/step - loss: 0.9999 - acc: 0.7081\n",
      "Epoch 6/90\n",
      "664/664 [==============================] - 302s 454ms/step - loss: 0.9862 - acc: 0.7090\n",
      "Epoch 7/90\n",
      "664/664 [==============================] - 302s 455ms/step - loss: 0.9935 - acc: 0.7088\n",
      "Epoch 8/90\n",
      "664/664 [==============================] - 303s 456ms/step - loss: 0.9853 - acc: 0.7106\n",
      "Epoch 9/90\n",
      "664/664 [==============================] - 303s 456ms/step - loss: 0.9842 - acc: 0.7115\n",
      "Epoch 10/90\n",
      "664/664 [==============================] - 302s 454ms/step - loss: 0.9833 - acc: 0.7137\n",
      "Epoch 11/90\n",
      "664/664 [==============================] - 302s 455ms/step - loss: 0.9736 - acc: 0.7122\n",
      "Epoch 12/90\n",
      "664/664 [==============================] - 303s 457ms/step - loss: 0.9687 - acc: 0.7149\n",
      "Epoch 13/90\n",
      "664/664 [==============================] - 305s 460ms/step - loss: 0.9750 - acc: 0.7110\n",
      "Epoch 14/90\n",
      "664/664 [==============================] - 302s 454ms/step - loss: 0.9643 - acc: 0.7142\n",
      "Epoch 15/90\n",
      "664/664 [==============================] - 302s 455ms/step - loss: 0.9702 - acc: 0.7154\n",
      "Epoch 16/90\n",
      "664/664 [==============================] - 302s 455ms/step - loss: 0.9672 - acc: 0.7111\n",
      "Epoch 17/90\n",
      "594/664 [=========================>....] - ETA: 33s - loss: 0.9613 - acc: 0.7186"
     ]
    },
    {
     "ename": "KeyboardInterrupt",
     "evalue": "",
     "output_type": "error",
     "traceback": [
      "\u001b[1;31m---------------------------------------------------------------------------\u001b[0m",
      "\u001b[1;31mKeyboardInterrupt\u001b[0m                         Traceback (most recent call last)",
      "\u001b[1;32m<ipython-input-26-023130645faa>\u001b[0m in \u001b[0;36m<module>\u001b[1;34m\u001b[0m\n\u001b[1;32m----> 1\u001b[1;33m history = model.fit_generator(\n\u001b[0m\u001b[0;32m      2\u001b[0m       \u001b[0mtotal_train_generator\u001b[0m\u001b[1;33m,\u001b[0m\u001b[1;33m\u001b[0m\u001b[1;33m\u001b[0m\u001b[0m\n\u001b[0;32m      3\u001b[0m       \u001b[1;31m#總共9866，每批20\u001b[0m\u001b[1;33m\u001b[0m\u001b[1;33m\u001b[0m\u001b[1;33m\u001b[0m\u001b[0m\n\u001b[0;32m      4\u001b[0m       \u001b[0msteps_per_epoch\u001b[0m\u001b[1;33m=\u001b[0m\u001b[1;36m664\u001b[0m\u001b[1;33m,\u001b[0m\u001b[1;33m\u001b[0m\u001b[1;33m\u001b[0m\u001b[0m\n\u001b[0;32m      5\u001b[0m       epochs=90)\n",
      "\u001b[1;32m~\\anaconda3\\lib\\site-packages\\tensorflow\\python\\util\\deprecation.py\u001b[0m in \u001b[0;36mnew_func\u001b[1;34m(*args, **kwargs)\u001b[0m\n\u001b[0;32m    322\u001b[0m               \u001b[1;34m'in a future version'\u001b[0m \u001b[1;32mif\u001b[0m \u001b[0mdate\u001b[0m \u001b[1;32mis\u001b[0m \u001b[1;32mNone\u001b[0m \u001b[1;32melse\u001b[0m \u001b[1;33m(\u001b[0m\u001b[1;34m'after %s'\u001b[0m \u001b[1;33m%\u001b[0m \u001b[0mdate\u001b[0m\u001b[1;33m)\u001b[0m\u001b[1;33m,\u001b[0m\u001b[1;33m\u001b[0m\u001b[1;33m\u001b[0m\u001b[0m\n\u001b[0;32m    323\u001b[0m               instructions)\n\u001b[1;32m--> 324\u001b[1;33m       \u001b[1;32mreturn\u001b[0m \u001b[0mfunc\u001b[0m\u001b[1;33m(\u001b[0m\u001b[1;33m*\u001b[0m\u001b[0margs\u001b[0m\u001b[1;33m,\u001b[0m \u001b[1;33m**\u001b[0m\u001b[0mkwargs\u001b[0m\u001b[1;33m)\u001b[0m\u001b[1;33m\u001b[0m\u001b[1;33m\u001b[0m\u001b[0m\n\u001b[0m\u001b[0;32m    325\u001b[0m     return tf_decorator.make_decorator(\n\u001b[0;32m    326\u001b[0m         \u001b[0mfunc\u001b[0m\u001b[1;33m,\u001b[0m \u001b[0mnew_func\u001b[0m\u001b[1;33m,\u001b[0m \u001b[1;34m'deprecated'\u001b[0m\u001b[1;33m,\u001b[0m\u001b[1;33m\u001b[0m\u001b[1;33m\u001b[0m\u001b[0m\n",
      "\u001b[1;32m~\\anaconda3\\lib\\site-packages\\tensorflow\\python\\keras\\engine\\training.py\u001b[0m in \u001b[0;36mfit_generator\u001b[1;34m(self, generator, steps_per_epoch, epochs, verbose, callbacks, validation_data, validation_steps, validation_freq, class_weight, max_queue_size, workers, use_multiprocessing, shuffle, initial_epoch)\u001b[0m\n\u001b[0;32m   1813\u001b[0m     \"\"\"\n\u001b[0;32m   1814\u001b[0m     \u001b[0m_keras_api_gauge\u001b[0m\u001b[1;33m.\u001b[0m\u001b[0mget_cell\u001b[0m\u001b[1;33m(\u001b[0m\u001b[1;34m'fit_generator'\u001b[0m\u001b[1;33m)\u001b[0m\u001b[1;33m.\u001b[0m\u001b[0mset\u001b[0m\u001b[1;33m(\u001b[0m\u001b[1;32mTrue\u001b[0m\u001b[1;33m)\u001b[0m\u001b[1;33m\u001b[0m\u001b[1;33m\u001b[0m\u001b[0m\n\u001b[1;32m-> 1815\u001b[1;33m     return self.fit(\n\u001b[0m\u001b[0;32m   1816\u001b[0m         \u001b[0mgenerator\u001b[0m\u001b[1;33m,\u001b[0m\u001b[1;33m\u001b[0m\u001b[1;33m\u001b[0m\u001b[0m\n\u001b[0;32m   1817\u001b[0m         \u001b[0msteps_per_epoch\u001b[0m\u001b[1;33m=\u001b[0m\u001b[0msteps_per_epoch\u001b[0m\u001b[1;33m,\u001b[0m\u001b[1;33m\u001b[0m\u001b[1;33m\u001b[0m\u001b[0m\n",
      "\u001b[1;32m~\\anaconda3\\lib\\site-packages\\tensorflow\\python\\keras\\engine\\training.py\u001b[0m in \u001b[0;36m_method_wrapper\u001b[1;34m(self, *args, **kwargs)\u001b[0m\n\u001b[0;32m    106\u001b[0m   \u001b[1;32mdef\u001b[0m \u001b[0m_method_wrapper\u001b[0m\u001b[1;33m(\u001b[0m\u001b[0mself\u001b[0m\u001b[1;33m,\u001b[0m \u001b[1;33m*\u001b[0m\u001b[0margs\u001b[0m\u001b[1;33m,\u001b[0m \u001b[1;33m**\u001b[0m\u001b[0mkwargs\u001b[0m\u001b[1;33m)\u001b[0m\u001b[1;33m:\u001b[0m\u001b[1;33m\u001b[0m\u001b[1;33m\u001b[0m\u001b[0m\n\u001b[0;32m    107\u001b[0m     \u001b[1;32mif\u001b[0m \u001b[1;32mnot\u001b[0m \u001b[0mself\u001b[0m\u001b[1;33m.\u001b[0m\u001b[0m_in_multi_worker_mode\u001b[0m\u001b[1;33m(\u001b[0m\u001b[1;33m)\u001b[0m\u001b[1;33m:\u001b[0m  \u001b[1;31m# pylint: disable=protected-access\u001b[0m\u001b[1;33m\u001b[0m\u001b[1;33m\u001b[0m\u001b[0m\n\u001b[1;32m--> 108\u001b[1;33m       \u001b[1;32mreturn\u001b[0m \u001b[0mmethod\u001b[0m\u001b[1;33m(\u001b[0m\u001b[0mself\u001b[0m\u001b[1;33m,\u001b[0m \u001b[1;33m*\u001b[0m\u001b[0margs\u001b[0m\u001b[1;33m,\u001b[0m \u001b[1;33m**\u001b[0m\u001b[0mkwargs\u001b[0m\u001b[1;33m)\u001b[0m\u001b[1;33m\u001b[0m\u001b[1;33m\u001b[0m\u001b[0m\n\u001b[0m\u001b[0;32m    109\u001b[0m \u001b[1;33m\u001b[0m\u001b[0m\n\u001b[0;32m    110\u001b[0m     \u001b[1;31m# Running inside `run_distribute_coordinator` already.\u001b[0m\u001b[1;33m\u001b[0m\u001b[1;33m\u001b[0m\u001b[1;33m\u001b[0m\u001b[0m\n",
      "\u001b[1;32m~\\anaconda3\\lib\\site-packages\\tensorflow\\python\\keras\\engine\\training.py\u001b[0m in \u001b[0;36mfit\u001b[1;34m(self, x, y, batch_size, epochs, verbose, callbacks, validation_split, validation_data, shuffle, class_weight, sample_weight, initial_epoch, steps_per_epoch, validation_steps, validation_batch_size, validation_freq, max_queue_size, workers, use_multiprocessing)\u001b[0m\n\u001b[0;32m   1096\u001b[0m                 batch_size=batch_size):\n\u001b[0;32m   1097\u001b[0m               \u001b[0mcallbacks\u001b[0m\u001b[1;33m.\u001b[0m\u001b[0mon_train_batch_begin\u001b[0m\u001b[1;33m(\u001b[0m\u001b[0mstep\u001b[0m\u001b[1;33m)\u001b[0m\u001b[1;33m\u001b[0m\u001b[1;33m\u001b[0m\u001b[0m\n\u001b[1;32m-> 1098\u001b[1;33m               \u001b[0mtmp_logs\u001b[0m \u001b[1;33m=\u001b[0m \u001b[0mtrain_function\u001b[0m\u001b[1;33m(\u001b[0m\u001b[0miterator\u001b[0m\u001b[1;33m)\u001b[0m\u001b[1;33m\u001b[0m\u001b[1;33m\u001b[0m\u001b[0m\n\u001b[0m\u001b[0;32m   1099\u001b[0m               \u001b[1;32mif\u001b[0m \u001b[0mdata_handler\u001b[0m\u001b[1;33m.\u001b[0m\u001b[0mshould_sync\u001b[0m\u001b[1;33m:\u001b[0m\u001b[1;33m\u001b[0m\u001b[1;33m\u001b[0m\u001b[0m\n\u001b[0;32m   1100\u001b[0m                 \u001b[0mcontext\u001b[0m\u001b[1;33m.\u001b[0m\u001b[0masync_wait\u001b[0m\u001b[1;33m(\u001b[0m\u001b[1;33m)\u001b[0m\u001b[1;33m\u001b[0m\u001b[1;33m\u001b[0m\u001b[0m\n",
      "\u001b[1;32m~\\anaconda3\\lib\\site-packages\\tensorflow\\python\\eager\\def_function.py\u001b[0m in \u001b[0;36m__call__\u001b[1;34m(self, *args, **kwds)\u001b[0m\n\u001b[0;32m    778\u001b[0m       \u001b[1;32melse\u001b[0m\u001b[1;33m:\u001b[0m\u001b[1;33m\u001b[0m\u001b[1;33m\u001b[0m\u001b[0m\n\u001b[0;32m    779\u001b[0m         \u001b[0mcompiler\u001b[0m \u001b[1;33m=\u001b[0m \u001b[1;34m\"nonXla\"\u001b[0m\u001b[1;33m\u001b[0m\u001b[1;33m\u001b[0m\u001b[0m\n\u001b[1;32m--> 780\u001b[1;33m         \u001b[0mresult\u001b[0m \u001b[1;33m=\u001b[0m \u001b[0mself\u001b[0m\u001b[1;33m.\u001b[0m\u001b[0m_call\u001b[0m\u001b[1;33m(\u001b[0m\u001b[1;33m*\u001b[0m\u001b[0margs\u001b[0m\u001b[1;33m,\u001b[0m \u001b[1;33m**\u001b[0m\u001b[0mkwds\u001b[0m\u001b[1;33m)\u001b[0m\u001b[1;33m\u001b[0m\u001b[1;33m\u001b[0m\u001b[0m\n\u001b[0m\u001b[0;32m    781\u001b[0m \u001b[1;33m\u001b[0m\u001b[0m\n\u001b[0;32m    782\u001b[0m       \u001b[0mnew_tracing_count\u001b[0m \u001b[1;33m=\u001b[0m \u001b[0mself\u001b[0m\u001b[1;33m.\u001b[0m\u001b[0m_get_tracing_count\u001b[0m\u001b[1;33m(\u001b[0m\u001b[1;33m)\u001b[0m\u001b[1;33m\u001b[0m\u001b[1;33m\u001b[0m\u001b[0m\n",
      "\u001b[1;32m~\\anaconda3\\lib\\site-packages\\tensorflow\\python\\eager\\def_function.py\u001b[0m in \u001b[0;36m_call\u001b[1;34m(self, *args, **kwds)\u001b[0m\n\u001b[0;32m    805\u001b[0m       \u001b[1;31m# In this case we have created variables on the first call, so we run the\u001b[0m\u001b[1;33m\u001b[0m\u001b[1;33m\u001b[0m\u001b[1;33m\u001b[0m\u001b[0m\n\u001b[0;32m    806\u001b[0m       \u001b[1;31m# defunned version which is guaranteed to never create variables.\u001b[0m\u001b[1;33m\u001b[0m\u001b[1;33m\u001b[0m\u001b[1;33m\u001b[0m\u001b[0m\n\u001b[1;32m--> 807\u001b[1;33m       \u001b[1;32mreturn\u001b[0m \u001b[0mself\u001b[0m\u001b[1;33m.\u001b[0m\u001b[0m_stateless_fn\u001b[0m\u001b[1;33m(\u001b[0m\u001b[1;33m*\u001b[0m\u001b[0margs\u001b[0m\u001b[1;33m,\u001b[0m \u001b[1;33m**\u001b[0m\u001b[0mkwds\u001b[0m\u001b[1;33m)\u001b[0m  \u001b[1;31m# pylint: disable=not-callable\u001b[0m\u001b[1;33m\u001b[0m\u001b[1;33m\u001b[0m\u001b[0m\n\u001b[0m\u001b[0;32m    808\u001b[0m     \u001b[1;32melif\u001b[0m \u001b[0mself\u001b[0m\u001b[1;33m.\u001b[0m\u001b[0m_stateful_fn\u001b[0m \u001b[1;32mis\u001b[0m \u001b[1;32mnot\u001b[0m \u001b[1;32mNone\u001b[0m\u001b[1;33m:\u001b[0m\u001b[1;33m\u001b[0m\u001b[1;33m\u001b[0m\u001b[0m\n\u001b[0;32m    809\u001b[0m       \u001b[1;31m# Release the lock early so that multiple threads can perform the call\u001b[0m\u001b[1;33m\u001b[0m\u001b[1;33m\u001b[0m\u001b[1;33m\u001b[0m\u001b[0m\n",
      "\u001b[1;32m~\\anaconda3\\lib\\site-packages\\tensorflow\\python\\eager\\function.py\u001b[0m in \u001b[0;36m__call__\u001b[1;34m(self, *args, **kwargs)\u001b[0m\n\u001b[0;32m   2827\u001b[0m     \u001b[1;32mwith\u001b[0m \u001b[0mself\u001b[0m\u001b[1;33m.\u001b[0m\u001b[0m_lock\u001b[0m\u001b[1;33m:\u001b[0m\u001b[1;33m\u001b[0m\u001b[1;33m\u001b[0m\u001b[0m\n\u001b[0;32m   2828\u001b[0m       \u001b[0mgraph_function\u001b[0m\u001b[1;33m,\u001b[0m \u001b[0margs\u001b[0m\u001b[1;33m,\u001b[0m \u001b[0mkwargs\u001b[0m \u001b[1;33m=\u001b[0m \u001b[0mself\u001b[0m\u001b[1;33m.\u001b[0m\u001b[0m_maybe_define_function\u001b[0m\u001b[1;33m(\u001b[0m\u001b[0margs\u001b[0m\u001b[1;33m,\u001b[0m \u001b[0mkwargs\u001b[0m\u001b[1;33m)\u001b[0m\u001b[1;33m\u001b[0m\u001b[1;33m\u001b[0m\u001b[0m\n\u001b[1;32m-> 2829\u001b[1;33m     \u001b[1;32mreturn\u001b[0m \u001b[0mgraph_function\u001b[0m\u001b[1;33m.\u001b[0m\u001b[0m_filtered_call\u001b[0m\u001b[1;33m(\u001b[0m\u001b[0margs\u001b[0m\u001b[1;33m,\u001b[0m \u001b[0mkwargs\u001b[0m\u001b[1;33m)\u001b[0m  \u001b[1;31m# pylint: disable=protected-access\u001b[0m\u001b[1;33m\u001b[0m\u001b[1;33m\u001b[0m\u001b[0m\n\u001b[0m\u001b[0;32m   2830\u001b[0m \u001b[1;33m\u001b[0m\u001b[0m\n\u001b[0;32m   2831\u001b[0m   \u001b[1;33m@\u001b[0m\u001b[0mproperty\u001b[0m\u001b[1;33m\u001b[0m\u001b[1;33m\u001b[0m\u001b[0m\n",
      "\u001b[1;32m~\\anaconda3\\lib\\site-packages\\tensorflow\\python\\eager\\function.py\u001b[0m in \u001b[0;36m_filtered_call\u001b[1;34m(self, args, kwargs, cancellation_manager)\u001b[0m\n\u001b[0;32m   1841\u001b[0m       \u001b[0;31m`\u001b[0m\u001b[0margs\u001b[0m\u001b[0;31m`\u001b[0m \u001b[1;32mand\u001b[0m\u001b[0;31m \u001b[0m\u001b[0;31m`\u001b[0m\u001b[0mkwargs\u001b[0m\u001b[0;31m`\u001b[0m\u001b[1;33m.\u001b[0m\u001b[1;33m\u001b[0m\u001b[1;33m\u001b[0m\u001b[0m\n\u001b[0;32m   1842\u001b[0m     \"\"\"\n\u001b[1;32m-> 1843\u001b[1;33m     return self._call_flat(\n\u001b[0m\u001b[0;32m   1844\u001b[0m         [t for t in nest.flatten((args, kwargs), expand_composites=True)\n\u001b[0;32m   1845\u001b[0m          if isinstance(t, (ops.Tensor,\n",
      "\u001b[1;32m~\\anaconda3\\lib\\site-packages\\tensorflow\\python\\eager\\function.py\u001b[0m in \u001b[0;36m_call_flat\u001b[1;34m(self, args, captured_inputs, cancellation_manager)\u001b[0m\n\u001b[0;32m   1921\u001b[0m         and executing_eagerly):\n\u001b[0;32m   1922\u001b[0m       \u001b[1;31m# No tape is watching; skip to running the function.\u001b[0m\u001b[1;33m\u001b[0m\u001b[1;33m\u001b[0m\u001b[1;33m\u001b[0m\u001b[0m\n\u001b[1;32m-> 1923\u001b[1;33m       return self._build_call_outputs(self._inference_function.call(\n\u001b[0m\u001b[0;32m   1924\u001b[0m           ctx, args, cancellation_manager=cancellation_manager))\n\u001b[0;32m   1925\u001b[0m     forward_backward = self._select_forward_and_backward_functions(\n",
      "\u001b[1;32m~\\anaconda3\\lib\\site-packages\\tensorflow\\python\\eager\\function.py\u001b[0m in \u001b[0;36mcall\u001b[1;34m(self, ctx, args, cancellation_manager)\u001b[0m\n\u001b[0;32m    543\u001b[0m       \u001b[1;32mwith\u001b[0m \u001b[0m_InterpolateFunctionError\u001b[0m\u001b[1;33m(\u001b[0m\u001b[0mself\u001b[0m\u001b[1;33m)\u001b[0m\u001b[1;33m:\u001b[0m\u001b[1;33m\u001b[0m\u001b[1;33m\u001b[0m\u001b[0m\n\u001b[0;32m    544\u001b[0m         \u001b[1;32mif\u001b[0m \u001b[0mcancellation_manager\u001b[0m \u001b[1;32mis\u001b[0m \u001b[1;32mNone\u001b[0m\u001b[1;33m:\u001b[0m\u001b[1;33m\u001b[0m\u001b[1;33m\u001b[0m\u001b[0m\n\u001b[1;32m--> 545\u001b[1;33m           outputs = execute.execute(\n\u001b[0m\u001b[0;32m    546\u001b[0m               \u001b[0mstr\u001b[0m\u001b[1;33m(\u001b[0m\u001b[0mself\u001b[0m\u001b[1;33m.\u001b[0m\u001b[0msignature\u001b[0m\u001b[1;33m.\u001b[0m\u001b[0mname\u001b[0m\u001b[1;33m)\u001b[0m\u001b[1;33m,\u001b[0m\u001b[1;33m\u001b[0m\u001b[1;33m\u001b[0m\u001b[0m\n\u001b[0;32m    547\u001b[0m               \u001b[0mnum_outputs\u001b[0m\u001b[1;33m=\u001b[0m\u001b[0mself\u001b[0m\u001b[1;33m.\u001b[0m\u001b[0m_num_outputs\u001b[0m\u001b[1;33m,\u001b[0m\u001b[1;33m\u001b[0m\u001b[1;33m\u001b[0m\u001b[0m\n",
      "\u001b[1;32m~\\anaconda3\\lib\\site-packages\\tensorflow\\python\\eager\\execute.py\u001b[0m in \u001b[0;36mquick_execute\u001b[1;34m(op_name, num_outputs, inputs, attrs, ctx, name)\u001b[0m\n\u001b[0;32m     57\u001b[0m   \u001b[1;32mtry\u001b[0m\u001b[1;33m:\u001b[0m\u001b[1;33m\u001b[0m\u001b[1;33m\u001b[0m\u001b[0m\n\u001b[0;32m     58\u001b[0m     \u001b[0mctx\u001b[0m\u001b[1;33m.\u001b[0m\u001b[0mensure_initialized\u001b[0m\u001b[1;33m(\u001b[0m\u001b[1;33m)\u001b[0m\u001b[1;33m\u001b[0m\u001b[1;33m\u001b[0m\u001b[0m\n\u001b[1;32m---> 59\u001b[1;33m     tensors = pywrap_tfe.TFE_Py_Execute(ctx._handle, device_name, op_name,\n\u001b[0m\u001b[0;32m     60\u001b[0m                                         inputs, attrs, num_outputs)\n\u001b[0;32m     61\u001b[0m   \u001b[1;32mexcept\u001b[0m \u001b[0mcore\u001b[0m\u001b[1;33m.\u001b[0m\u001b[0m_NotOkStatusException\u001b[0m \u001b[1;32mas\u001b[0m \u001b[0me\u001b[0m\u001b[1;33m:\u001b[0m\u001b[1;33m\u001b[0m\u001b[1;33m\u001b[0m\u001b[0m\n",
      "\u001b[1;31mKeyboardInterrupt\u001b[0m: "
     ]
    }
   ],
   "source": [
    "history = model.fit_generator(\n",
    "      total_train_generator,\n",
    "      #總共9866，每批20\n",
    "      steps_per_epoch=664,\n",
    "      epochs=90)"
   ]
  }
 ],
 "metadata": {
  "colab": {
   "collapsed_sections": [],
   "name": "CNN-classfying_food.ipynb",
   "provenance": []
  },
  "kernelspec": {
   "display_name": "Python 3",
   "language": "python",
   "name": "python3"
  },
  "language_info": {
   "codemirror_mode": {
    "name": "ipython",
    "version": 3
   },
   "file_extension": ".py",
   "mimetype": "text/x-python",
   "name": "python",
   "nbconvert_exporter": "python",
   "pygments_lexer": "ipython3",
   "version": "3.8.8"
  }
 },
 "nbformat": 4,
 "nbformat_minor": 5
}
